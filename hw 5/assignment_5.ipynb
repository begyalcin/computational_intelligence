{
  "cells": [
    {
      "attachments": {},
      "cell_type": "markdown",
      "metadata": {
        "id": "QRBDdr0SEqpT"
      },
      "source": [
        "# Assignment 5"
      ]
    },
    {
      "attachments": {},
      "cell_type": "markdown",
      "metadata": {
        "id": "8xd57TRzExEr"
      },
      "source": [
        "# **Assignment 5**\n",
        "\n",
        "Goal of the assignment: ​Get familiar with neural architecture search by applying an evolutionary algorithm to select the best architecture of a neural network."
      ]
    },
    {
      "attachments": {},
      "cell_type": "markdown",
      "metadata": {
        "id": "FD403lVx-8gM"
      },
      "source": [
        "# Import libraries"
      ]
    },
    {
      "cell_type": "code",
      "execution_count": 1,
      "metadata": {
        "id": "g4wCnPRz-MaE"
      },
      "outputs": [],
      "source": [
        "import os\n",
        "import matplotlib.pyplot as plt\n",
        "import numpy as np\n",
        "import torch\n",
        "import torch.nn as nn\n",
        "import torch.nn.functional as F\n",
        "from sklearn import datasets\n",
        "from sklearn.datasets import load_digits\n",
        "from torch.utils.data import DataLoader, Dataset\n",
        "from torchvision.datasets import SVHN\n",
        "from torchvision.transforms import ToTensor\n",
        "from torch.utils.data import random_split\n",
        "\n",
        "EPS = 1.0e-7"
      ]
    },
    {
      "attachments": {},
      "cell_type": "markdown",
      "metadata": {
        "id": "Fr7oeO2DACCA"
      },
      "source": [
        "# Mount Drive"
      ]
    },
    {
      "cell_type": "code",
      "execution_count": 2,
      "metadata": {
        "colab": {
          "base_uri": "https://localhost:8080/"
        },
        "id": "mRmwbuamRuge",
        "outputId": "9958f36c-0906-46fe-82c4-8748bfd99408"
      },
      "outputs": [
        {
          "name": "stdout",
          "output_type": "stream",
          "text": [
            "Drive already mounted at /content/gdrive; to attempt to forcibly remount, call drive.mount(\"/content/gdrive\", force_remount=True).\n"
          ]
        }
      ],
      "source": [
        "# IF YOU USE COLAB, THIS IS VERY USEFUL! OTHERWISE, PLEASE REMOVE IT.\n",
        "# mount drive: WE NEED IT FOR SAVING IMAGES!\n",
        "from google.colab import drive\n",
        "\n",
        "drive.mount(\"/content/gdrive\")"
      ]
    },
    {
      "cell_type": "code",
      "execution_count": 3,
      "metadata": {
        "id": "KEiEJE5sRvjc"
      },
      "outputs": [],
      "source": [
        "# IF YOU USE COLAB, THIS IS VERY USEFUL! OTHERWISE, PLEASE REMOVE IT.\n",
        "# PLEASE CHANGE IT TO YOUR OWN GOOGLE DRIVE!\n",
        "result_dir = \"/content/gdrive/MyDrive/Colab Notebooks/assignment_5\""
      ]
    },
    {
      "attachments": {},
      "cell_type": "markdown",
      "metadata": {
        "id": "nvFnK0qi_XCa"
      },
      "source": [
        "# Digits dataset (from Assignment 4)"
      ]
    },
    {
      "cell_type": "code",
      "execution_count": 4,
      "metadata": {
        "id": "Xm4e0Utl-30c"
      },
      "outputs": [],
      "source": [
        "# This is a class for the dataset of small (8px x 8px) digits.\n",
        "# Please try to understand in details how it works!\n",
        "class Digits(Dataset):\n",
        "    \"\"\"Scikit-Learn Digits dataset.\"\"\"\n",
        "\n",
        "    def __init__(self, mode=\"train\", transforms=None):\n",
        "        digits = load_digits()\n",
        "        if mode == \"train\":\n",
        "            self.data = digits.data[:1000].astype(np.float32)\n",
        "            self.targets = digits.target[:1000]\n",
        "        elif mode == \"val\":\n",
        "            self.data = digits.data[1000:1350].astype(np.float32)\n",
        "            self.targets = digits.target[1000:1350]\n",
        "        else:\n",
        "            self.data = digits.data[1350:].astype(np.float32)\n",
        "            self.targets = digits.target[1350:]\n",
        "\n",
        "        self.transforms = transforms\n",
        "\n",
        "    def __len__(self):\n",
        "        return len(self.data)\n",
        "\n",
        "    def __getitem__(self, idx):\n",
        "        sample_x = self.data[idx]\n",
        "        sample_y = self.targets[idx]\n",
        "        if self.transforms:\n",
        "            sample_x = self.transforms(sample_x)\n",
        "        return (sample_x, sample_y)"
      ]
    },
    {
      "cell_type": "code",
      "execution_count": 5,
      "metadata": {
        "colab": {
          "base_uri": "https://localhost:8080/",
          "height": 370
        },
        "id": "bnDz_yGeuOnh",
        "outputId": "d785b749-a146-48f5-dddc-3686ebf5a148"
      },
      "outputs": [
        {
          "data": {
            "image/png": "[encoded data removed]",
            "text/plain": [
              "<Figure size 400x400 with 16 Axes>"
            ]
          },
          "metadata": {},
          "output_type": "display_data"
        }
      ],
      "source": [
        "# Here, we plot some images (8px x 8px).\n",
        "digits = load_digits()\n",
        "x = digits.data[:16].astype(np.float32)\n",
        "\n",
        "fig_data, axs = plt.subplots(4, 4, figsize=(4, 4))\n",
        "fig_data.tight_layout()\n",
        "\n",
        "for i in range(4):\n",
        "    for j in range(4):\n",
        "        img = np.reshape(x[4 * i + j], (8, 8))\n",
        "        axs[i, j].imshow(img, cmap=\"gray\")\n",
        "        axs[i, j].axis(\"off\")"
      ]
    },
    {
      "attachments": {},
      "cell_type": "markdown",
      "metadata": {
        "id": "nygdcxmI_8gU"
      },
      "source": [
        "# Helper modules (Flatten and Reshape)"
      ]
    },
    {
      "attachments": {},
      "cell_type": "markdown",
      "metadata": {
        "id": "9FThxxdkpKcQ"
      },
      "source": [
        "Below, we have two helper modules (layers) that can be used to reshape and flatten a tensor. They are useful for creating sequentials with convolutional layers."
      ]
    },
    {
      "cell_type": "code",
      "execution_count": 6,
      "metadata": {
        "id": "5AB5Ch63Ak01"
      },
      "outputs": [],
      "source": [
        "# Here are two auxiliary functions that can be used for a convolutional NN (CNN).\n",
        "\n",
        "# This module reshapes an input (matrix -> tensor).\n",
        "class Reshape(nn.Module):\n",
        "    def __init__(self, size):\n",
        "        super(Reshape, self).__init__()\n",
        "        self.size = size  # a list\n",
        "\n",
        "    def forward(self, x):\n",
        "        assert x.shape[1] == np.prod(self.size)\n",
        "        return x.view(x.shape[0], *self.size)\n",
        "\n",
        "\n",
        "# This module flattens an input (tensor -> matrix) by blending dimensions\n",
        "# beyond the batch size.\n",
        "class Flatten(nn.Module):\n",
        "    def __init__(self):\n",
        "        super(Flatten, self).__init__()\n",
        "\n",
        "    def forward(self, x):\n",
        "        return x.view(x.shape[0], -1)"
      ]
    },
    {
      "attachments": {},
      "cell_type": "markdown",
      "metadata": {
        "id": "L_4O0xKr_tnK"
      },
      "source": [
        "# Neural Network Classifier (from Assignment 4)"
      ]
    },
    {
      "attachments": {},
      "cell_type": "markdown",
      "metadata": {
        "id": "x3i9R3NmpUY3"
      },
      "source": [
        "Below is the main class for a classifier parameterized by a neural network."
      ]
    },
    {
      "cell_type": "code",
      "execution_count": 7,
      "metadata": {
        "id": "Vtv_pAkmOrS3"
      },
      "outputs": [],
      "source": [
        "# Implement a neural network (NN) classifier.\n",
        "class ClassifierNeuralNet(nn.Module):\n",
        "    def __init__(self, classnet):\n",
        "        super(ClassifierNeuralNet, self).__init__()\n",
        "        # We provide a sequential module with layers and activations\n",
        "        self.classnet = classnet\n",
        "        # The loss function (the negative log-likelihood)\n",
        "        self.nll = nn.NLLLoss(reduction=\"none\")  # it requires log-softmax as input!!\n",
        "\n",
        "    # This function classifies an image x to a class.\n",
        "    # The output must be a class label (long).\n",
        "    def classify(self, x):\n",
        "        # output is taken from classnet\n",
        "        out = self.classnet(x)\n",
        "        # index of maximum value and assign it to predicted one\n",
        "        _, y_pred = torch.max(out, dim=1)\n",
        "        #return predicted label\n",
        "        return y_pred\n",
        "\n",
        "    # This function is crucial for a module in PyTorch.\n",
        "    # In our framework, this class outputs a value of the loss function.\n",
        "    def forward(self, x, y, reduction=\"avg\"):\n",
        "        # get output from classnet \n",
        "        out = self.classnet(x)\n",
        "        # compute loss from self.nll between output and y\n",
        "        loss = self.nll(out, y)       \n",
        "        if reduction == \"sum\":\n",
        "            return loss.sum()\n",
        "        else:\n",
        "            return loss.mean()"
      ]
    },
    {
      "attachments": {},
      "cell_type": "markdown",
      "metadata": {
        "id": "o2mvRH89AR7G"
      },
      "source": [
        "# Evaluation (from Assignment 4)"
      ]
    },
    {
      "cell_type": "code",
      "execution_count": 8,
      "metadata": {
        "id": "4g9uUFgYP1kT"
      },
      "outputs": [],
      "source": [
        "def evaluation(test_loader, name=None, model_best=None, epoch=None, print_freq=1):\n",
        "    # If available, load the best performing model\n",
        "    if model_best is None:\n",
        "        model_best = torch.load(name + \".model\")\n",
        "\n",
        "    model_best.eval()  # set the model to the evaluation mode\n",
        "    loss_test = 0.0\n",
        "    loss_error = 0.0\n",
        "    N = 0.0\n",
        "    # start evaluation\n",
        "    for indx_batch, (test_batch, test_targets) in enumerate(test_loader):\n",
        "        # loss (nll)\n",
        "        loss_test_batch = model_best.forward(test_batch, test_targets, reduction=\"sum\")\n",
        "        loss_test = loss_test + loss_test_batch.item()\n",
        "        # classification error\n",
        "        y_pred = model_best.classify(test_batch)\n",
        "        e = 1.0 * (y_pred == test_targets)\n",
        "        loss_error = loss_error + (1.0 - e).sum().item()\n",
        "        # the number of examples\n",
        "        N = N + test_batch.shape[0]\n",
        "    # divide by the number of examples\n",
        "    loss_test = loss_test / N\n",
        "    loss_error = loss_error / N\n",
        "\n",
        "    # Print the performance\n",
        "    if epoch is None:\n",
        "        print(f\"-> FINAL PERFORMANCE: nll={loss_test}, ce={loss_error}\")\n",
        "    else:\n",
        "        if epoch % 10 == 0:\n",
        "            print(f\"Epoch: {epoch}, val nll={loss_test}, val ce={loss_error}\")\n",
        "\n",
        "    return loss_test, loss_error\n",
        "\n",
        "\n",
        "# An auxiliary function for plotting the performance curves\n",
        "def plot_curve(\n",
        "    name,\n",
        "    signal,\n",
        "    file_name=\"curve.pdf\",\n",
        "    xlabel=\"epochs\",\n",
        "    ylabel=\"nll\",\n",
        "    color=\"b-\",\n",
        "    test_eval=None,\n",
        "):\n",
        "    # plot the curve\n",
        "    plt.plot(\n",
        "        np.arange(len(signal)), signal, color, linewidth=\"3\", label=ylabel + \" val\"\n",
        "    )\n",
        "    # if available, add the final (test) performance\n",
        "    if test_eval is not None:\n",
        "        plt.hlines(\n",
        "            test_eval,\n",
        "            xmin=0,\n",
        "            xmax=len(signal),\n",
        "            linestyles=\"dashed\",\n",
        "            label=ylabel + \" test\",\n",
        "        )\n",
        "        plt.text(\n",
        "            len(signal),\n",
        "            test_eval,\n",
        "            \"{:.3f}\".format(test_eval),\n",
        "        )\n",
        "    # set x- and ylabels, add legend, save the figure\n",
        "    plt.xlabel(xlabel), plt.ylabel(ylabel)\n",
        "    plt.legend()\n",
        "    plt.savefig(name + file_name, bbox_inches=\"tight\")\n",
        "    plt.show()"
      ]
    },
    {
      "attachments": {},
      "cell_type": "markdown",
      "metadata": {
        "id": "YzRd-TiY3puF"
      },
      "source": [
        "# Training procedure (from Assignment 4)"
      ]
    },
    {
      "cell_type": "code",
      "execution_count": 9,
      "metadata": {
        "id": "CMhQWbM1QcBM"
      },
      "outputs": [],
      "source": [
        "# The training procedure\n",
        "def training(\n",
        "    name, max_patience, num_epochs, model, optimizer, training_loader, val_loader, print_freq\n",
        "):\n",
        "    nll_val = []\n",
        "    error_val = []\n",
        "    best_nll = 1000.0\n",
        "    patience = 0\n",
        "\n",
        "    # Main training loop\n",
        "    for e in range(num_epochs):\n",
        "        model.train()  # set the model to the training mode\n",
        "        # load batches\n",
        "        for indx_batch, (batch, targets) in enumerate(training_loader):\n",
        "            # calculate the forward pass (loss function for given images and labels)\n",
        "            loss = model.forward(batch, targets)\n",
        "            # remember we need to zero gradients! Just in case!\n",
        "            optimizer.zero_grad()\n",
        "            # calculate backward pass\n",
        "            loss.backward(retain_graph=True)\n",
        "            # run the optimizer\n",
        "            optimizer.step()\n",
        "\n",
        "        # Validation: Evaluate the model on the validation data\n",
        "        loss_e, error_e = evaluation(val_loader, model_best=model, epoch=e, print_freq=print_freq)\n",
        "        nll_val.append(loss_e)  # save for plotting\n",
        "        error_val.append(error_e)  # save for plotting\n",
        "\n",
        "        # Early-stopping: update the best performing model and break training if no\n",
        "        # progress is observed.\n",
        "        if e == 0:\n",
        "            torch.save(model, name + \".model\")\n",
        "            best_nll = loss_e\n",
        "        else:\n",
        "            if loss_e < best_nll:\n",
        "                torch.save(model, name + \".model\")\n",
        "                best_nll = loss_e\n",
        "                patience = 0\n",
        "            else:\n",
        "                patience = patience + 1\n",
        "\n",
        "        if patience > max_patience:\n",
        "            break\n",
        "\n",
        "    # Return nll and classification error.\n",
        "    nll_val = np.asarray(nll_val)\n",
        "    error_val = np.asarray(error_val)\n",
        "\n",
        "    return nll_val, error_val"
      ]
    },
    {
      "attachments": {},
      "cell_type": "markdown",
      "metadata": {
        "id": "gHYGz3G87nuk"
      },
      "source": [
        "#Experiments"
      ]
    },
    {
      "attachments": {},
      "cell_type": "markdown",
      "metadata": {
        "id": "op-YbN-JREqw"
      },
      "source": [
        "# Initialize dataloaders (from Assignment 4)"
      ]
    },
    {
      "cell_type": "code",
      "execution_count": 10,
      "metadata": {
        "id": "R_cRaP3gRET1"
      },
      "outputs": [],
      "source": [
        "# Initialize training, validation and test sets.\n",
        "train_data = Digits(mode=\"train\")\n",
        "val_data = Digits(mode=\"val\")\n",
        "test_data = Digits(mode=\"test\")\n",
        "\n",
        "# Initialize data loaders.\n",
        "train_loader = DataLoader(train_data, batch_size=64, shuffle=True)\n",
        "val_loader = DataLoader(val_data, batch_size=64, shuffle=False)\n",
        "test_loader = DataLoader(test_data, batch_size=64, shuffle=False)"
      ]
    },
    {
      "cell_type": "code",
      "execution_count": 11,
      "metadata": {
        "colab": {
          "base_uri": "https://localhost:8080/"
        },
        "id": "2Lqwm5c3oRia",
        "outputId": "d707869e-445f-4d5e-b1fa-af24e706f588"
      },
      "outputs": [
        {
          "name": "stdout",
          "output_type": "stream",
          "text": [
            "How do we get our data from Digits class? \n",
            "\n",
            "Feature example: [ 0.  0.  0. 12. 13.  5.  0.  0.  0.  0.  0. 11. 16.  9.  0.  0.  0.  0.\n",
            "  3. 15. 16.  6.  0.  0.  0.  7. 15. 16. 16.  2.  0.  0.  0.  0.  1. 16.\n",
            " 16.  3.  0.  0.  0.  0.  1. 16. 16.  6.  0.  0.  0.  0.  1. 16. 16.  6.\n",
            "  0.  0.  0.  0.  0. 11. 16. 10.  0.  0.]\n",
            "Label example: 1\n"
          ]
        }
      ],
      "source": [
        "print(\"How do we get our data from Digits class? \\n\")\n",
        "print(f\"Feature example: {train_data[1][0]}\")\n",
        "print(f\"Label example: {train_data[1][1]}\")"
      ]
    },
    {
      "attachments": {},
      "cell_type": "markdown",
      "metadata": {
        "id": "mGZjXKJHN3oZ"
      },
      "source": [
        "# Creating CNN Generator Class"
      ]
    },
    {
      "attachments": {},
      "cell_type": "markdown",
      "metadata": {
        "id": "549A_-c6sAIS"
      },
      "source": [
        "We create dictionaries for Convolutional number of filters, convolutional layer configurations, pooling dimensions, pooling type, number of neurons in neural layer, and activation function. \n",
        "\n",
        "We implemented  a convolutional neural network of the following form:\n",
        "Conv2d → f(.) → Pooling → Flatten → Linear 1 → f(.) → Linear 2 → Softmax \n",
        "\n",
        "We have different choices in each building block:\n",
        "\n",
        "\n",
        "*   Conv2d: Number of filters: 8, 16, 32 / kernel=(3,3), stride=1, padding=1 OR kernel=(5,5), stride=1, padding=2\n",
        "*  f(.): ReLU OR sigmoid OR tanh OR softplus OR ELU\n",
        "*   Pooling: 2x2 OR Identity\n",
        " Average OR Maximum\n",
        "*   Linear 1: Number of neurons: 10, 20, 30, 40, 50, 60, 70, 80, 90, 100"
      ]
    },
    {
      "cell_type": "code",
      "execution_count": 12,
      "metadata": {
        "id": "wBGfjC_oc6UI"
      },
      "outputs": [],
      "source": [
        "conv_num_filters = {\n",
        "    0: 8,\n",
        "    1: 16,\n",
        "    2: 32\n",
        "}\n",
        "\n",
        "conv_configs = {\n",
        "    0: 'config0',\n",
        "    1: 'config1'\n",
        "}\n",
        "\n",
        "pooling_dims = {\n",
        "    0: (2,2),\n",
        "    1: (1,1)\n",
        "}\n",
        "\n",
        "pooling_type = {\n",
        "    0: 'average',\n",
        "    1: 'maximum'\n",
        "}\n",
        "\n",
        "linear_num_neurons = {\n",
        "    0: 10,\n",
        "    1: 20,\n",
        "    2: 30,\n",
        "    3: 40,\n",
        "    4: 50,\n",
        "    5: 60,\n",
        "    6: 70,\n",
        "    7: 80,\n",
        "    8: 90,\n",
        "    9: 100\n",
        "}\n",
        "\n",
        "activation = {\n",
        "    0: 'ReLU',\n",
        "    1: 'sigmoid',\n",
        "    2: 'tanh',\n",
        "    3: 'softplus',\n",
        "    4: 'ELU'\n",
        "}"
      ]
    },
    {
      "cell_type": "code",
      "execution_count": 13,
      "metadata": {
        "id": "Ro0Z6nP6cAZk"
      },
      "outputs": [],
      "source": [
        "class CNNGenerator():\n",
        " \n",
        "  def create_population(self, pop_size):\n",
        "    # generates a population with random individiuals\n",
        "    # uses lengths of dictionaries defined above\n",
        "    population = []\n",
        "    for i in range(pop_size):\n",
        "      individual = [np.random.randint(len(conv_num_filters)), \n",
        "                    np.random.randint(len(conv_configs)), \n",
        "                    np.random.randint(len(activation)),\n",
        "                    np.random.randint(len(pooling_dims)), \n",
        "                    np.random.randint(len(pooling_type)), \n",
        "                    np.random.randint(len(linear_num_neurons)), \n",
        "                    np.random.randint(len(activation))]  \n",
        "      population.append(individual)\n",
        "    return population\n",
        "\n",
        "  def decode(self, population):\n",
        "    # the function decodes individuals representations from the values of the dictionaries \n",
        "    population = [population, ]\n",
        "    decoded_population = []\n",
        "    for individual in population:\n",
        "        decoded = [\n",
        "            conv_num_filters.get(individual[0]),\n",
        "            conv_configs.get(individual[1]),\n",
        "            activation.get(individual[2]),\n",
        "            pooling_dims.get(individual[3]),\n",
        "            pooling_type.get(individual[4]),\n",
        "            linear_num_neurons.get(individual[5]),\n",
        "            activation.get(individual[6])\n",
        "        ]\n",
        "        decoded_population.append(decoded)\n",
        "    return np.squeeze(decoded_population)\n",
        "  \n",
        "  def choose_activatiton(self, name):\n",
        "    #chooses activation function according to key words\n",
        "    if name == 'ReLU':\n",
        "      return nn.ReLU()\n",
        "    elif name == 'sigmoid':\n",
        "      return nn.Sigmoid()\n",
        "    elif name == 'tanh':\n",
        "      return nn.Tanh()\n",
        "    elif name == 'softplus':\n",
        "      return nn.Softplus()\n",
        "    else:\n",
        "      return nn.ELU()\n",
        "\n",
        "  def create_network(self, individual):\n",
        "    #creates a neural network from the individuals \n",
        "    individual = self.decode(individual)\n",
        "    network = nn.Sequential(\n",
        "        # reshape to 1 8 8 \n",
        "        Reshape(size=(1, 8, 8)),\n",
        "        # convolutional layer according to the configuration\n",
        "        nn.Conv2d(in_channels=1, out_channels=individual[0], kernel_size=3, stride=1, padding=1) if individual[1] == 'config0' else nn.Conv2d(in_channels=1, out_channels=individual[0], kernel_size=5, stride=1, padding=2),\n",
        "        # call the relevant activation function\n",
        "        self.choose_activatiton(individual[2]),\n",
        "        # pooling according to average or max \n",
        "        nn.AvgPool2d(individual[3]) if individual[4] == 'average' else nn.MaxPool2d(individual[3]),\n",
        "        # flatten the tensor\n",
        "        Flatten(),\n",
        "        # linear layer\n",
        "        nn.Linear(int(8 * 8 / (individual[3][0] ** 2) * individual[0]), individual[5]),\n",
        "        # call the relevant activation function\n",
        "        self.choose_activatiton(individual[6]),\n",
        "        # linear layer\n",
        "        nn.Linear(individual[5], 10),\n",
        "        # softmax activation function\n",
        "        nn.Softmax(dim=1)\n",
        "    )\n",
        "    return network\n"
      ]
    },
    {
      "cell_type": "code",
      "execution_count": 14,
      "metadata": {
        "id": "B3svsV3WL-XC"
      },
      "outputs": [],
      "source": [
        "generator = CNNGenerator()"
      ]
    },
    {
      "attachments": {},
      "cell_type": "markdown",
      "metadata": {
        "id": "NkZyAoV6DUSs"
      },
      "source": [
        "# Evolutionary Algorithm (from Assignment 3)"
      ]
    },
    {
      "cell_type": "code",
      "execution_count": 15,
      "metadata": {
        "id": "A5gbgAo0Cwke"
      },
      "outputs": [],
      "source": [
        "class EA(object):\n",
        "    def __init__(self, evaluator, pop_size):\n",
        "        self.evaluator = evaluator\n",
        "        self.pop_size = pop_size\n",
        "    def parent_selection(self, x_old, f_old):       \n",
        "        # Proportional selection with fitness values is used. Sampled according to the normalized fitness value.\n",
        "        # Tournament implementation is used for selection\n",
        "        # Tournament selection: Pick k individuals randomly (with or without replacement).\n",
        "        # Pick the best one and add it to the matching pool.\n",
        "        # Repeat\n",
        "        x_parents = x_old\n",
        "        f_parents = f_old\n",
        "        # normalize fitness values and compute sum\n",
        "        prob_parents = np.exp(-f_old)/ np.sum(np.exp(-f_old))\n",
        "        x_parents = []\n",
        "        f_parents = []\n",
        "        mu = 2*self.pop_size\n",
        "        for i in range(mu):\n",
        "            # select parents with tournament selection with k=2\n",
        "            k = 2\n",
        "            participants = np.random.choice(len(x_old), k, replace=False)\n",
        "            best = np.argmin(f_old[participants])\n",
        "            x_parents.append(x_old[participants[best]])\n",
        "            f_parents.append(f_old[participants[best]]) \n",
        "        x_parents = np.asarray(x_parents)\n",
        "        f_parents = np.asarray(f_parents)\n",
        "        return x_parents, f_parents\n",
        "\n",
        "    def recombination(self, x_parents, f_parents):     \n",
        "        # For recombination, Uniform Recombination is used. \n",
        "        # children population is initialized. \n",
        "        # two parents are selected randomly. \n",
        "        # for each child a random r is generated and compared with value 0.5 uniformly \n",
        "        # according to r being greater or smaller than 0.5, recombination is done with parent 1 or parent 2.\n",
        "        # uniform recombination is used when creating children.\n",
        "        # empty list to store children\n",
        "        x_children = []\n",
        "        for i in range(self.pop_size):\n",
        "            num_parents = x_parents.shape[0]\n",
        "            # two parents are selected randomly. \n",
        "            parent_1 = x_parents[(np.floor(np.random.uniform(0, num_parents))).astype(int)]\n",
        "            parent_2 = x_parents[(np.floor(np.random.uniform(0, num_parents))).astype(int)]\n",
        "            child_1 = np.zeros(len(parent_1))\n",
        "            child_2 = np.zeros(len(parent_2))\n",
        "            for j in range(len(parent_1)):\n",
        "                r = np.random.uniform(0, 1)\n",
        "                # according to r being greater or smaller than 0.5, recombination is done with parent 1 or parent 2.\n",
        "                if r>0.5:\n",
        "                    child_1[j] = parent_1[j]\n",
        "                    child_2[j] = parent_2[j]\n",
        "                else:\n",
        "                    child_1[j] = parent_2[j]\n",
        "                    child_2[j] = parent_1[j]\n",
        "            x_children.append(child_1)\n",
        "            x_children.append(child_2)\n",
        "        x_children = np.asarray(x_children)\n",
        "        return x_children\n",
        "    \n",
        "    def mutation(self, x_children):\n",
        "        # For mutation, random perturbaation is used. \n",
        "        # this mutation selects random feature and its value, \n",
        "        # then modifies its value \n",
        "        # updates the population with new value \n",
        "        # returns mutated population in the end.\n",
        "        # select random child\n",
        "        index = np.random.randint(0, self.pop_size)\n",
        "        child = x_children[index]\n",
        "        #select random feature index and find its value \n",
        "        feature_index = np.random.randint(len(child))\n",
        "        feature_value = child[feature_index]\n",
        "        child[feature_index] = int(feature_value/2)\n",
        "        x_children[index] = child\n",
        "        return x_children \n",
        "\n",
        "    def survivor_selection(self, x_old, x_children, f_old, f_children):\n",
        "        # For survivor selection, Fitness Based Replacement is used with (μ, λ) selection. \n",
        "        # We create λ children from μ s.t. λ > μ. And μ best children constitute a new population.\n",
        "        # mu variable is the number of children that will be selected \n",
        "        \n",
        "        # merge parent and child populations\n",
        "        x = np.concatenate([x_old, x_children])\n",
        "        f = np.concatenate([f_old, f_children])\n",
        "        # give a value to mu variable\n",
        "        mu = len(x_old)\n",
        "        #sort by fitness values\n",
        "        indices = np.argsort(f)\n",
        "        x = x[indices]\n",
        "        f = f[indices]\n",
        "        # select μ best children and they constitute a new population, (μ, λ) selection is used\n",
        "        x = x[:mu]\n",
        "        f = f[:mu]\n",
        "        return x, f\n",
        "\n",
        "    # Evaluation step\n",
        "    def evaluate(self, x):\n",
        "        return self.evaluator.evaluate_population(x)\n",
        "\n",
        "    def step(self, x_old, f_old):\n",
        "        x_parents, f_parents = self.parent_selection(x_old, f_old)\n",
        "        x_children = self.recombination(x_parents, f_parents)\n",
        "        x_children = self.mutation(x_children)\n",
        "        f_children = self.evaluate(x_children)\n",
        "        x, f = self.survivor_selection(x_old, x_children, f_old, f_children)\n",
        "        return x, f"
      ]
    },
    {
      "attachments": {},
      "cell_type": "markdown",
      "metadata": {
        "id": "pI9K9AczLfjF"
      },
      "source": [
        "# Evaluator class for EA"
      ]
    },
    {
      "cell_type": "code",
      "execution_count": 16,
      "metadata": {
        "id": "d06TYU0DLihs"
      },
      "outputs": [],
      "source": [
        "class EAEvaluator():\n",
        "    def __init__(self, max_num_params):\n",
        "        self.max_num_params = max_num_params\n",
        "\n",
        "    def calculate_num_params(self, model):\n",
        "        num_parameters = 0\n",
        "        for p in model.parameters():\n",
        "          if p.requires_grad:\n",
        "            num_parameters += p.numel()\n",
        "        return num_parameters\n",
        "\n",
        "    def evaluate(self, individual):\n",
        "        # generate network\n",
        "        net = generator.create_network(individual)\n",
        "        # Initialize Classifier Neural Network\n",
        "        model = ClassifierNeuralNet(net)\n",
        "        # Init OPTIMIZER (here we use ADAMAX)\n",
        "        optimizer = torch.optim.Adamax(\n",
        "            [p for p in model.parameters() if p.requires_grad == True],\n",
        "            lr=lr,\n",
        "            weight_decay=wd,\n",
        "        )    \n",
        "        name = \"evaluation\"   \n",
        "        # Training procedure \n",
        "        nll_val, error_val = training(\n",
        "            name= name,\n",
        "            num_epochs=10,\n",
        "            max_patience=10,\n",
        "            model=model,\n",
        "            optimizer=optimizer,\n",
        "            training_loader=train_loader,\n",
        "            val_loader=val_loader,\n",
        "            print_freq=-1)\n",
        "   \n",
        "        class_error = error_val[-1]\n",
        "        num_params = self.calculate_num_params(model)\n",
        "        # Modify the objective function (i.e., classification error, ClassError) by adding a\n",
        "        # penalty for the number of weights in the CNN:\n",
        "        objective = class_error + lambda_p * (num_params / self.max_num_params)\n",
        "        return objective\n",
        "\n",
        "    def evaluate_population(self, population):\n",
        "        scores_population = np.zeros(len(population))\n",
        "        for i, individual in enumerate(population):\n",
        "            scores_population[i] = self.evaluate(individual)  \n",
        "        return scores_population"
      ]
    },
    {
      "attachments": {},
      "cell_type": "markdown",
      "metadata": {
        "id": "Ymq5CRJdH5Be"
      },
      "source": [
        "# Hyperparameters for Evolutionary Algorithm"
      ]
    },
    {
      "cell_type": "code",
      "execution_count": 17,
      "metadata": {
        "id": "zywGq7ZxnYUn"
      },
      "outputs": [],
      "source": [
        "def calculate_num_params(model):\n",
        "  #calculates number of parameters\n",
        "    num_parameters = 0\n",
        "    for p in model.parameters():\n",
        "      if p.requires_grad:\n",
        "        num_parameters += p.numel()\n",
        "    return num_parameters"
      ]
    },
    {
      "cell_type": "code",
      "execution_count": 18,
      "metadata": {
        "colab": {
          "base_uri": "https://localhost:8080/"
        },
        "id": "o_S57X9NH4lq",
        "outputId": "f73568d7-c8f7-4700-f662-06bfe626accf"
      },
      "outputs": [
        {
          "name": "stderr",
          "output_type": "stream",
          "text": [
            "/usr/local/lib/python3.10/dist-packages/numpy/core/fromnumeric.py:43: VisibleDeprecationWarning: Creating an ndarray from ragged nested sequences (which is a list-or-tuple of lists-or-tuples-or ndarrays with different lengths or shapes) is deprecated. If you meant to do this, you must specify 'dtype=object' when creating the ndarray.\n",
            "  result = getattr(asarray(obj), method)(*args, **kwds)\n"
          ]
        }
      ],
      "source": [
        "individual = [1, 0, 0, 0, 1, 9, 0] \n",
        "lambda_p = 0.01\n",
        "num_generations = 11 # if necessary, please increase the number of generations\n",
        "pop_size = 7\n",
        "net = generator.create_network(individual)\n",
        "model = ClassifierNeuralNet(net) \n",
        "max_num_params = calculate_num_params(model)"
      ]
    },
    {
      "cell_type": "code",
      "execution_count": 24,
      "metadata": {
        "id": "GkvR5gXs5l-l"
      },
      "outputs": [],
      "source": [
        "individual = [1, 0, 0, 0, 1, 9, 0] \n",
        "decoded = [\n",
        "            conv_num_filters.get(individual[0]),\n",
        "            conv_configs.get(individual[1]),\n",
        "            activation.get(individual[2]),\n",
        "            pooling_dims.get(individual[3]),\n",
        "            pooling_type.get(individual[4]),\n",
        "            linear_num_neurons.get(individual[5]),\n",
        "            activation.get(individual[6])\n",
        "        ]\n"
      ]
    },
    {
      "cell_type": "code",
      "execution_count": 25,
      "metadata": {
        "colab": {
          "base_uri": "https://localhost:8080/"
        },
        "id": "ktvKF_zM5u5m",
        "outputId": "da31ed4f-6be1-4128-d25f-accee0a7df77"
      },
      "outputs": [
        {
          "data": {
            "text/plain": [
              "[16, 'config0', 'ReLU', (2, 2), 'maximum', 100, 'ReLU']"
            ]
          },
          "execution_count": 25,
          "metadata": {},
          "output_type": "execute_result"
        }
      ],
      "source": [
        "decoded"
      ]
    },
    {
      "cell_type": "code",
      "execution_count": 19,
      "metadata": {
        "id": "FFB16wpVI9wf"
      },
      "outputs": [],
      "source": [
        "# -> training hyperparams\n",
        "lr = 1e-3  # learning rate\n",
        "wd = 1e-5  # weight decay\n",
        "num_epochs = 50  # max. number of epochs\n",
        "max_patience = 20  # an early stopping is used, if training doesn't improve for longer than 20 epochs, it is stopped"
      ]
    },
    {
      "attachments": {},
      "cell_type": "markdown",
      "metadata": {
        "id": "ondbqsz5KAJH"
      },
      "source": [
        "# Initializing and running the EA"
      ]
    },
    {
      "cell_type": "code",
      "execution_count": 20,
      "metadata": {
        "id": "PT6-5Z8rICmi"
      },
      "outputs": [],
      "source": [
        "evaluator = EAEvaluator(max_num_params)\n",
        "#initialize evaluator class\n",
        "ea = EA(evaluator, pop_size)"
      ]
    },
    {
      "cell_type": "code",
      "execution_count": 21,
      "metadata": {
        "colab": {
          "base_uri": "https://localhost:8080/"
        },
        "id": "FqXptwL_Cwfz",
        "outputId": "57144a46-0efb-4c99-dd91-19fb96acdefb"
      },
      "outputs": [
        {
          "name": "stdout",
          "output_type": "stream",
          "text": [
            "Epoch: 0, val nll=-0.5361485753740584, val ce=0.35428571428571426\n",
            "Epoch: 0, val nll=-0.10966949803488595, val ce=0.8085714285714286\n",
            "Epoch: 0, val nll=-0.3605439295087542, val ce=0.2571428571428571\n",
            "Epoch: 0, val nll=-0.39066601072038926, val ce=0.6085714285714285\n",
            "Epoch: 0, val nll=-0.23631198065621511, val ce=0.6371428571428571\n",
            "Epoch: 0, val nll=-0.11637914725712367, val ce=0.8085714285714286\n",
            "Epoch: 0, val nll=-0.7544864872523717, val ce=0.18571428571428572\n",
            "Generation: 0, best fitness: 0.05\n",
            "Epoch: 0, val nll=-0.5487777709960937, val ce=0.3742857142857143\n",
            "Epoch: 0, val nll=-0.6343701989310129, val ce=0.3171428571428571\n",
            "Epoch: 0, val nll=-0.5294062042236328, val ce=0.44285714285714284\n",
            "Epoch: 0, val nll=-0.5350213268824986, val ce=0.34\n",
            "Epoch: 0, val nll=-0.2783072117396763, val ce=0.4514285714285714\n",
            "Epoch: 0, val nll=-0.474142096383231, val ce=0.39714285714285713\n",
            "Epoch: 0, val nll=-0.44476018905639647, val ce=0.5142857142857142\n",
            "Epoch: 0, val nll=-0.11549548353467669, val ce=0.8942857142857142\n",
            "Epoch: 0, val nll=-0.2885888072422573, val ce=0.58\n",
            "Epoch: 0, val nll=-0.5477470479692732, val ce=0.37142857142857144\n",
            "Epoch: 0, val nll=-0.40505233764648435, val ce=0.5714285714285714\n",
            "Epoch: 0, val nll=-0.6560216576712472, val ce=0.2571428571428571\n",
            "Epoch: 0, val nll=-0.6687650517054966, val ce=0.26285714285714284\n",
            "Epoch: 0, val nll=-0.10878875051225935, val ce=0.8057142857142857\n",
            "Generation: 1, best fitness: 0.04\n",
            "Epoch: 0, val nll=-0.3599699238368443, val ce=0.31142857142857144\n",
            "Epoch: 0, val nll=-0.3457242475237165, val ce=0.5514285714285714\n",
            "Epoch: 0, val nll=-0.3542402103969029, val ce=0.4228571428571429\n",
            "Epoch: 0, val nll=-0.3056547055925642, val ce=0.43714285714285717\n",
            "Epoch: 0, val nll=-0.4697068950108119, val ce=0.4542857142857143\n",
            "Epoch: 0, val nll=-0.31536724363054547, val ce=0.47714285714285715\n",
            "Epoch: 0, val nll=-0.5928496006556919, val ce=0.25142857142857145\n",
            "Epoch: 0, val nll=-0.3042272022792271, val ce=0.29714285714285715\n",
            "Epoch: 0, val nll=-0.49901911326817106, val ce=0.42\n",
            "Epoch: 0, val nll=-0.4546788270132882, val ce=0.5228571428571429\n",
            "Epoch: 0, val nll=-0.4419036946977888, val ce=0.5342857142857143\n",
            "Epoch: 0, val nll=-0.6485687473842076, val ce=0.18857142857142858\n",
            "Epoch: 0, val nll=-0.41320117133004325, val ce=0.5257142857142857\n",
            "Epoch: 0, val nll=-0.5634463800702776, val ce=0.2542857142857143\n",
            "Generation: 2, best fitness: 0.04\n",
            "Epoch: 0, val nll=-0.6487883758544922, val ce=0.14857142857142858\n",
            "Epoch: 0, val nll=-0.3149773257119315, val ce=0.6628571428571428\n",
            "Epoch: 0, val nll=-0.4063903181893485, val ce=0.3457142857142857\n",
            "Epoch: 0, val nll=-0.4155822127205985, val ce=0.35714285714285715\n",
            "Epoch: 0, val nll=-0.32233951568603514, val ce=0.4685714285714286\n",
            "Epoch: 0, val nll=-0.3779005323137556, val ce=0.22285714285714286\n",
            "Epoch: 0, val nll=-0.2797112682887486, val ce=0.5314285714285715\n",
            "Epoch: 0, val nll=-0.5255636978149414, val ce=0.42857142857142855\n",
            "Epoch: 0, val nll=-0.5089352090018137, val ce=0.2542857142857143\n",
            "Epoch: 0, val nll=-0.6174815722874233, val ce=0.25142857142857145\n",
            "Epoch: 0, val nll=-0.3520936611720494, val ce=0.43714285714285717\n",
            "Epoch: 0, val nll=-0.5062554550170898, val ce=0.4228571428571429\n",
            "Epoch: 0, val nll=-0.5803873879568917, val ce=0.29428571428571426\n",
            "Epoch: 0, val nll=-0.4592748314993722, val ce=0.41714285714285715\n",
            "Generation: 3, best fitness: 0.04\n",
            "Epoch: 0, val nll=-0.5262845557076591, val ce=0.34285714285714286\n",
            "Epoch: 0, val nll=-0.4905474363054548, val ce=0.4542857142857143\n",
            "Epoch: 0, val nll=-0.27475814819335936, val ce=0.43142857142857144\n",
            "Epoch: 0, val nll=-0.4500051661900112, val ce=0.5342857142857143\n",
            "Epoch: 0, val nll=-0.493720338003976, val ce=0.4085714285714286\n",
            "Epoch: 0, val nll=-0.5404355839320591, val ce=0.3514285714285714\n",
            "Epoch: 0, val nll=-0.4909730475289481, val ce=0.43714285714285717\n",
            "Epoch: 0, val nll=-0.30415454047066826, val ce=0.4542857142857143\n",
            "Epoch: 0, val nll=-0.5437173761640276, val ce=0.4114285714285714\n",
            "Epoch: 0, val nll=-0.5157944025312151, val ce=0.43142857142857144\n",
            "Epoch: 0, val nll=-0.3231910569327218, val ce=0.3514285714285714\n",
            "Epoch: 0, val nll=-0.5808515494210379, val ce=0.3628571428571429\n",
            "Epoch: 0, val nll=-0.5769107709612166, val ce=0.34285714285714286\n",
            "Epoch: 0, val nll=-0.26658413205827985, val ce=0.40285714285714286\n",
            "Generation: 4, best fitness: 0.04\n",
            "Epoch: 0, val nll=-0.48031205313546316, val ce=0.36857142857142855\n",
            "Epoch: 0, val nll=-0.30577649797712053, val ce=0.36\n",
            "Epoch: 0, val nll=-0.5088489695957729, val ce=0.40285714285714286\n",
            "Epoch: 0, val nll=-0.4656352697099958, val ce=0.5028571428571429\n",
            "Epoch: 0, val nll=-0.38566490173339846, val ce=0.25142857142857145\n",
            "Epoch: 0, val nll=-0.3234594508579799, val ce=0.62\n",
            "Epoch: 0, val nll=-0.6025530433654785, val ce=0.29714285714285715\n",
            "Epoch: 0, val nll=-0.5248406055995396, val ce=0.4142857142857143\n",
            "Epoch: 0, val nll=-0.6125659670148577, val ce=0.3028571428571429\n",
            "Epoch: 0, val nll=-0.6694699914114816, val ce=0.24857142857142858\n",
            "Epoch: 0, val nll=-0.33203083310808457, val ce=0.3485714285714286\n",
            "Epoch: 0, val nll=-0.5429793194362096, val ce=0.43142857142857144\n",
            "Epoch: 0, val nll=-0.5314944321768624, val ce=0.4342857142857143\n",
            "Epoch: 0, val nll=-0.6451187133789062, val ce=0.23142857142857143\n",
            "Generation: 5, best fitness: 0.04\n",
            "Epoch: 0, val nll=-0.5201155362810408, val ce=0.41714285714285715\n",
            "Epoch: 0, val nll=-0.48667481013706754, val ce=0.4857142857142857\n",
            "Epoch: 0, val nll=-0.5051944078717913, val ce=0.44\n",
            "Epoch: 0, val nll=-0.45311574935913085, val ce=0.4714285714285714\n",
            "Epoch: 0, val nll=-0.3606935337611607, val ce=0.30857142857142855\n",
            "Epoch: 0, val nll=-0.29963540485927037, val ce=0.39714285714285713\n",
            "Epoch: 0, val nll=-0.5214146368844168, val ce=0.3514285714285714\n",
            "Epoch: 0, val nll=-0.5204674475533622, val ce=0.43142857142857144\n",
            "Epoch: 0, val nll=-0.3533512387956892, val ce=0.22285714285714286\n",
            "Epoch: 0, val nll=-0.25907061985560825, val ce=0.45714285714285713\n",
            "Epoch: 0, val nll=-0.48374097006661554, val ce=0.35428571428571426\n",
            "Epoch: 0, val nll=-0.5421021897452218, val ce=0.43714285714285717\n",
            "Epoch: 0, val nll=-0.5701493344988142, val ce=0.34285714285714286\n",
            "Epoch: 0, val nll=-0.5555774470738002, val ce=0.3514285714285714\n",
            "Generation: 6, best fitness: 0.04\n",
            "Epoch: 0, val nll=-0.4710975156511579, val ce=0.44857142857142857\n",
            "Epoch: 0, val nll=-0.5300164876665387, val ce=0.3514285714285714\n",
            "Epoch: 0, val nll=-0.6283086994716099, val ce=0.25142857142857145\n",
            "Epoch: 0, val nll=-0.3371084676470075, val ce=0.3942857142857143\n",
            "Epoch: 0, val nll=-0.6259548568725586, val ce=0.19714285714285715\n",
            "Epoch: 0, val nll=-0.5917101696559361, val ce=0.26571428571428574\n",
            "Epoch: 0, val nll=-0.5489074925013951, val ce=0.3457142857142857\n",
            "Epoch: 0, val nll=-0.5478704125540597, val ce=0.3657142857142857\n",
            "Epoch: 0, val nll=-0.5559771020071848, val ce=0.36857142857142855\n",
            "Epoch: 0, val nll=-0.4917652974809919, val ce=0.3\n",
            "Epoch: 0, val nll=-0.5020336341857911, val ce=0.4\n",
            "Epoch: 0, val nll=-0.6615656770978655, val ce=0.16857142857142857\n",
            "Epoch: 0, val nll=-0.5601582908630371, val ce=0.3514285714285714\n",
            "Epoch: 0, val nll=-0.44136746270315985, val ce=0.5514285714285714\n",
            "Generation: 7, best fitness: 0.04\n",
            "Epoch: 0, val nll=-0.6087914712088449, val ce=0.24\n",
            "Epoch: 0, val nll=-0.5122363254002162, val ce=0.42\n",
            "Epoch: 0, val nll=-0.512163576398577, val ce=0.38\n",
            "Epoch: 0, val nll=-0.6345331518990653, val ce=0.24571428571428572\n",
            "Epoch: 0, val nll=-0.49486820220947264, val ce=0.43142857142857144\n",
            "Epoch: 0, val nll=-0.42288939612252374, val ce=0.32857142857142857\n",
            "Epoch: 0, val nll=-0.4119354438781738, val ce=0.56\n",
            "Epoch: 0, val nll=-0.6051287051609584, val ce=0.26285714285714284\n",
            "Epoch: 0, val nll=-0.5232058770315988, val ce=0.3914285714285714\n",
            "Epoch: 0, val nll=-0.5911922563825335, val ce=0.29428571428571426\n",
            "Epoch: 0, val nll=-0.5441605077471052, val ce=0.2742857142857143\n",
            "Epoch: 0, val nll=-0.573095953805106, val ce=0.3142857142857143\n",
            "Epoch: 0, val nll=-0.6378516387939454, val ce=0.3028571428571429\n",
            "Epoch: 0, val nll=-0.6298267201014928, val ce=0.28285714285714286\n",
            "Generation: 8, best fitness: 0.04\n",
            "Epoch: 0, val nll=-0.5013351249694824, val ce=0.43142857142857144\n",
            "Epoch: 0, val nll=-0.4357362992422921, val ce=0.48\n",
            "Epoch: 0, val nll=-0.4099536977495466, val ce=0.38\n",
            "Epoch: 0, val nll=-0.5256017657688686, val ce=0.33714285714285713\n",
            "Epoch: 0, val nll=-0.43677914210728236, val ce=0.46\n",
            "Epoch: 0, val nll=-0.42594730377197265, val ce=0.4714285714285714\n",
            "Epoch: 0, val nll=-0.5071597099304199, val ce=0.3342857142857143\n",
            "Epoch: 0, val nll=-0.47836626052856446, val ce=0.3742857142857143\n",
            "Epoch: 0, val nll=-0.6038987677437918, val ce=0.28285714285714286\n",
            "Epoch: 0, val nll=-0.5157220649719239, val ce=0.4257142857142857\n",
            "Epoch: 0, val nll=-0.5262094361441476, val ce=0.31142857142857144\n",
            "Epoch: 0, val nll=-0.5773303658621651, val ce=0.2\n",
            "Epoch: 0, val nll=-0.5481546292986189, val ce=0.32857142857142857\n",
            "Epoch: 0, val nll=-0.669293703351702, val ce=0.16\n",
            "Generation: 9, best fitness: 0.04\n",
            "Epoch: 0, val nll=-0.6311965669904437, val ce=0.3142857142857143\n",
            "Epoch: 0, val nll=-0.523488393511091, val ce=0.3457142857142857\n",
            "Epoch: 0, val nll=-0.49086729049682615, val ce=0.34285714285714286\n",
            "Epoch: 0, val nll=-0.4731271880013602, val ce=0.38571428571428573\n",
            "Epoch: 0, val nll=-0.43447291237967356, val ce=0.52\n",
            "Epoch: 0, val nll=-0.4852407455444336, val ce=0.44571428571428573\n",
            "Epoch: 0, val nll=-0.5926273373195103, val ce=0.26\n",
            "Epoch: 0, val nll=-0.4319996643066406, val ce=0.5114285714285715\n",
            "Epoch: 0, val nll=-0.5657611628941127, val ce=0.31142857142857144\n",
            "Epoch: 0, val nll=-0.46341715948922296, val ce=0.38\n",
            "Epoch: 0, val nll=-0.4355345698765346, val ce=0.4742857142857143\n",
            "Epoch: 0, val nll=-0.27809520585196357, val ce=0.7142857142857143\n",
            "Epoch: 0, val nll=-0.42753335952758786, val ce=0.47714285714285715\n",
            "Epoch: 0, val nll=-0.6909360994611468, val ce=0.19142857142857142\n",
            "Generation: 10, best fitness: 0.04\n",
            "Epoch: 0, val nll=-0.45726864678519114, val ce=0.4857142857142857\n",
            "Epoch: 0, val nll=-0.48537628173828123, val ce=0.36857142857142855\n",
            "Epoch: 0, val nll=-0.5817383302961077, val ce=0.2885714285714286\n",
            "Epoch: 0, val nll=-0.5396652330671038, val ce=0.36\n",
            "Epoch: 0, val nll=-0.6160889652797154, val ce=0.21142857142857144\n",
            "Epoch: 0, val nll=-0.4831547464643206, val ce=0.34\n",
            "Epoch: 0, val nll=-0.4397286742074149, val ce=0.4257142857142857\n",
            "Epoch: 0, val nll=-0.4380620057242257, val ce=0.26857142857142857\n",
            "Epoch: 0, val nll=-0.35971051897321427, val ce=0.44857142857142857\n",
            "Epoch: 0, val nll=-0.5302896881103516, val ce=0.3914285714285714\n",
            "Epoch: 0, val nll=-0.401768068586077, val ce=0.2857142857142857\n",
            "Epoch: 0, val nll=-0.5265288843427386, val ce=0.37142857142857144\n",
            "Epoch: 0, val nll=-0.5646950966971261, val ce=0.32571428571428573\n",
            "Epoch: 0, val nll=-0.5786561529976981, val ce=0.23714285714285716\n",
            "FINISHED!\n"
          ]
        }
      ],
      "source": [
        "# Init the population\n",
        "x = generator.create_population(pop_size)\n",
        "f = ea.evaluate(x)\n",
        "\n",
        "# We want to gather populations and values of the best candidates to further\n",
        "# analyze the algorithm.\n",
        "populations = []\n",
        "populations.append(x)\n",
        "f_best = [f.min()]\n",
        "\n",
        "# Run the EA.\n",
        "for i in range(num_generations):\n",
        "    if i % int(num_generations * 0.1) == 0:\n",
        "        print(\"Generation: {}, best fitness: {:.2f}\".format(i, f.min()))\n",
        "    x, f = ea.step(x, f)\n",
        "    populations.append(x)\n",
        "    if f.min() < f_best[-1]:\n",
        "        f_best.append(f.min())\n",
        "    else:\n",
        "        f_best.append(f_best[-1])\n",
        "print(\"FINISHED!\")\n"
      ]
    },
    {
      "attachments": {},
      "cell_type": "markdown",
      "metadata": {
        "id": "cBMT5CeWI13P"
      },
      "source": [
        "# Train and test Neural Network architecture"
      ]
    },
    {
      "cell_type": "code",
      "execution_count": 22,
      "metadata": {
        "id": "8dbQfsphv8oW"
      },
      "outputs": [],
      "source": [
        "lr = 1e-3 # learning rate\n",
        "wd = 1e-5 # weight decay\n",
        "num_epochs = 300 # max. number of epochs\n",
        "max_patience = 20 "
      ]
    },
    {
      "cell_type": "code",
      "execution_count": 23,
      "metadata": {
        "colab": {
          "base_uri": "https://localhost:8080/",
          "height": 1000
        },
        "id": "IJyQs72QCwU2",
        "outputId": "acb9d7d6-e411-4a4b-b366-9dc3742f14ae"
      },
      "outputs": [
        {
          "name": "stdout",
          "output_type": "stream",
          "text": [
            "Epoch: 0, val nll=-0.5676155989510673, val ce=0.3142857142857143\n",
            "Epoch: 10, val nll=-0.9404521451677594, val ce=0.04\n",
            "Epoch: 20, val nll=-0.9511646270751953, val ce=0.03142857142857143\n",
            "Epoch: 30, val nll=-0.9554768862043108, val ce=0.037142857142857144\n",
            "Epoch: 40, val nll=-0.9549417386736189, val ce=0.04285714285714286\n",
            "Epoch: 50, val nll=-0.9583201926095145, val ce=0.03428571428571429\n",
            "Epoch: 60, val nll=-0.9571447426932199, val ce=0.03428571428571429\n",
            "Epoch: 70, val nll=-0.9587246322631836, val ce=0.03428571428571429\n",
            "Epoch: 80, val nll=-0.9601845605032785, val ce=0.03428571428571429\n",
            "Epoch: 90, val nll=-0.9605381556919643, val ce=0.03142857142857143\n",
            "Epoch: 100, val nll=-0.961652090890067, val ce=0.03142857142857143\n",
            "Epoch: 110, val nll=-0.9617596217564174, val ce=0.03142857142857143\n",
            "Epoch: 120, val nll=-0.9624720873151507, val ce=0.03142857142857143\n",
            "Epoch: 130, val nll=-0.9627682658604213, val ce=0.03142857142857143\n",
            "Epoch: 140, val nll=-0.9632418441772461, val ce=0.02857142857142857\n",
            "Epoch: 150, val nll=-0.9632971027919225, val ce=0.03142857142857143\n",
            "Epoch: 160, val nll=-0.963628305707659, val ce=0.03142857142857143\n",
            "Epoch: 170, val nll=-0.9637145178658622, val ce=0.03142857142857143\n",
            "Epoch: 180, val nll=-0.9638044956752232, val ce=0.03142857142857143\n",
            "Epoch: 190, val nll=-0.9644896643502372, val ce=0.03142857142857143\n",
            "Epoch: 200, val nll=-0.9647364316667829, val ce=0.025714285714285714\n",
            "Epoch: 210, val nll=-0.9649655914306641, val ce=0.025714285714285714\n",
            "Epoch: 220, val nll=-0.9650548662458147, val ce=0.025714285714285714\n",
            "Epoch: 230, val nll=-0.9648342950003488, val ce=0.02857142857142857\n",
            "Epoch: 240, val nll=-0.9655101231166294, val ce=0.025714285714285714\n",
            "-> FINAL PERFORMANCE: nll=-0.9130185786509674, ce=0.08053691275167785\n"
          ]
        },
        {
          "data": {
            "image/png": "[encoded data removed]",
            "text/plain": [
              "<Figure size 640x480 with 1 Axes>"
            ]
          },
          "metadata": {},
          "output_type": "display_data"
        },
        {
          "data": {
            "image/png": "[encoded data removed]",
            "text/plain": [
              "<Figure size 640x480 with 1 Axes>"
            ]
          },
          "metadata": {},
          "output_type": "display_data"
        }
      ],
      "source": [
        "#initialize network from the last generation\n",
        "net = generator.create_network(x[np.argmin(x)])\n",
        " # Init ClassifierNN\n",
        "model = ClassifierNeuralNet(net) \n",
        "\n",
        "# Init OPTIMIZER (here we use ADAMAX)\n",
        "optimizer = torch.optim.Adamax(\n",
        "    [p for p in model.parameters() if p.requires_grad == True],\n",
        "    lr=lr,\n",
        "    weight_decay=wd,\n",
        ")\n",
        "\n",
        "name = \"best_classifier\" \n",
        "\n",
        "# Training procedure\n",
        "nll_val, error_val = training(\n",
        "    name=result_dir + name,\n",
        "    max_patience=max_patience,\n",
        "    num_epochs=num_epochs,\n",
        "    model=model,\n",
        "    optimizer=optimizer,\n",
        "    training_loader=train_loader,\n",
        "    val_loader=val_loader,\n",
        "    print_freq=10, \n",
        ")\n",
        "\n",
        "# The final evaluation (on the test set)\n",
        "test_loss, test_error = evaluation(name=result_dir + name, test_loader=test_loader)\n",
        "# write the results to a file\n",
        "f = open(result_dir + name + \"_test_loss.txt\", \"w\")\n",
        "f.write(\"NLL: \" + str(test_loss) + \"\\nCE: \" + str(test_error))\n",
        "f.close()\n",
        "# create curves\n",
        "plot_curve(\n",
        "    result_dir + name,\n",
        "    nll_val,\n",
        "    file_name=\"_nll_val_curve.pdf\",\n",
        "    ylabel=\"nll\",\n",
        "    test_eval=test_loss,\n",
        ")\n",
        "plot_curve(\n",
        "    result_dir + name,\n",
        "    error_val,\n",
        "    file_name=\"_ca_val_curve.pdf\",\n",
        "    ylabel=\"ce\",\n",
        "    color=\"r-\",\n",
        "    test_eval=test_error,\n",
        ")"
      ]
    },
    {
      "attachments": {},
      "cell_type": "markdown",
      "metadata": {},
      "source": [
        "Analysis\n"
      ]
    },
    {
      "attachments": {},
      "cell_type": "markdown",
      "metadata": {},
      "source": [
        "In the assignment 4, the classification on the CNN was 0.044. Here it is 0.08 which is a bit higher than the assignment 4. This should be because of that the number of parameters is less in this case. "
      ]
    }
  ],
  "metadata": {
    "colab": {
      "gpuType": "T4",
      "provenance": []
    },
    "gpuClass": "standard",
    "kernelspec": {
      "display_name": "Python 3 (ipykernel)",
      "language": "python",
      "name": "python3"
    },
    "language_info": {
      "codemirror_mode": {
        "name": "ipython",
        "version": 3
      },
      "file_extension": ".py",
      "mimetype": "text/x-python",
      "name": "python",
      "nbconvert_exporter": "python",
      "pygments_lexer": "ipython3",
      "version": "3.9.13"
    }
  },
  "nbformat": 4,
  "nbformat_minor": 0
}
